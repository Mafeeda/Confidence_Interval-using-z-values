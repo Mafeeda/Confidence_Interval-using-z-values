{
 "cells": [
  {
   "cell_type": "markdown",
   "id": "08994f8c",
   "metadata": {},
   "source": [
    "## Credit Card Launch example sample mean: 1990 sample SD: 2833 Pop SD: 2500 Pop mean: ? n=140\n",
    "### Q: Construct 95% confidence interval for mean card balance and interpret it"
   ]
  },
  {
   "cell_type": "code",
   "execution_count": 1,
   "id": "0e43ffee",
   "metadata": {},
   "outputs": [],
   "source": [
    "import numpy as np\n",
    "import pandas as pd\n",
    "from scipy import stats\n",
    "from scipy.stats import norm"
   ]
  },
  {
   "cell_type": "code",
   "execution_count": 2,
   "id": "04ea8dce",
   "metadata": {},
   "outputs": [
    {
     "data": {
      "text/plain": [
       "1.959963984540054"
      ]
     },
     "execution_count": 2,
     "metadata": {},
     "output_type": "execute_result"
    }
   ],
   "source": [
    "# 95% Z-value = stats.norm.ppf(0.975)\n",
    "stats.norm.ppf(0.975)"
   ]
  },
  {
   "cell_type": "code",
   "execution_count": 3,
   "id": "4a09d814",
   "metadata": {},
   "outputs": [
    {
     "data": {
      "text/plain": [
       "(-1.959963984540054, 1.959963984540054)"
      ]
     },
     "execution_count": 3,
     "metadata": {},
     "output_type": "execute_result"
    }
   ],
   "source": [
    "# Or other simpler method (95% z-value interval)\n",
    "stats.norm.interval(0.95,0,1)"
   ]
  },
  {
   "cell_type": "code",
   "execution_count": 4,
   "id": "34bee93e",
   "metadata": {},
   "outputs": [
    {
     "data": {
      "text/plain": [
       "211.28856368212914"
      ]
     },
     "execution_count": 4,
     "metadata": {},
     "output_type": "execute_result"
    }
   ],
   "source": [
    "#Pop Standard Error = Pop SD/sqrt(n) \n",
    "SE = 2500/140 ** 0.5\n",
    "SE"
   ]
  },
  {
   "cell_type": "code",
   "execution_count": 5,
   "id": "a5fb9991",
   "metadata": {},
   "outputs": [
    {
     "data": {
      "text/plain": [
       "[1575.8716, 2404.1284]"
      ]
     },
     "execution_count": 5,
     "metadata": {},
     "output_type": "execute_result"
    }
   ],
   "source": [
    "# 95% confidence interval of pop mean using Z value = Sample mean -+ (Z_value * SE) \n",
    "[1990-(1.96*211.29),1990+(1.96*211.29)]"
   ]
  },
  {
   "cell_type": "markdown",
   "id": "04b9eb8e",
   "metadata": {},
   "source": [
    "### Or Direct Simple method: 95% CIE for Pop mean using z-value\n",
    "### stats.norm.interval(0.95,loc=samp_mean,scale=pop_SD/Sqrt(n))"
   ]
  },
  {
   "cell_type": "code",
   "execution_count": 6,
   "id": "0f6752ef",
   "metadata": {},
   "outputs": [
    {
     "data": {
      "text/plain": [
       "(1575.8820248378292, 2404.1179751621708)"
      ]
     },
     "execution_count": 6,
     "metadata": {},
     "output_type": "execute_result"
    }
   ],
   "source": [
    "stats.norm.interval(0.95,1990,2500/(140**0.5)) # Confidence Interval for mean"
   ]
  },
  {
   "cell_type": "markdown",
   "id": "3398b6f9",
   "metadata": {},
   "source": [
    "### Q: For 90% Confidence Interval Estimate"
   ]
  },
  {
   "cell_type": "code",
   "execution_count": 7,
   "id": "fc51ff9b",
   "metadata": {},
   "outputs": [
    {
     "data": {
      "text/plain": [
       "1.6448536269514722"
      ]
     },
     "execution_count": 7,
     "metadata": {},
     "output_type": "execute_result"
    }
   ],
   "source": [
    "# 90% Z-value \n",
    "stats.norm.ppf(0.95)"
   ]
  },
  {
   "cell_type": "code",
   "execution_count": 8,
   "id": "fc4f08ef",
   "metadata": {},
   "outputs": [
    {
     "data": {
      "text/plain": [
       "(-1.6448536269514729, 1.6448536269514722)"
      ]
     },
     "execution_count": 8,
     "metadata": {},
     "output_type": "execute_result"
    }
   ],
   "source": [
    "# Or other simpler method (90% z-value interval)\n",
    "stats.norm.interval(0.90,0,1)"
   ]
  },
  {
   "cell_type": "code",
   "execution_count": 9,
   "id": "94fe2b2c",
   "metadata": {},
   "outputs": [
    {
     "data": {
      "text/plain": [
       "[1642.42795, 2337.5720499999998]"
      ]
     },
     "execution_count": 9,
     "metadata": {},
     "output_type": "execute_result"
    }
   ],
   "source": [
    "# 90% confidence interval using Z value = Sample mean -+ (Z_value * SE)\n",
    "[1990-(1.645*211.29),1990+(1.645*211.29)]"
   ]
  },
  {
   "cell_type": "markdown",
   "id": "a182e73f",
   "metadata": {},
   "source": [
    "### Or Direct Simple method: 90% CIE for Pop mean using z-value\n",
    "### stats.norm.interval(0.90,loc=samp_mean,scale=pop_SD/Sqrt(n))"
   ]
  },
  {
   "cell_type": "code",
   "execution_count": 10,
   "id": "875e88a5",
   "metadata": {},
   "outputs": [
    {
     "data": {
      "text/plain": [
       "(1642.4612396940827, 2337.538760305917)"
      ]
     },
     "execution_count": 10,
     "metadata": {},
     "output_type": "execute_result"
    }
   ],
   "source": [
    "stats.norm.interval(0.90,1990,2500/(140**0.5))"
   ]
  },
  {
   "cell_type": "code",
   "execution_count": null,
   "id": "d39c997a",
   "metadata": {},
   "outputs": [],
   "source": []
  }
 ],
 "metadata": {
  "kernelspec": {
   "display_name": "Python 3",
   "language": "python",
   "name": "python3"
  },
  "language_info": {
   "codemirror_mode": {
    "name": "ipython",
    "version": 3
   },
   "file_extension": ".py",
   "mimetype": "text/x-python",
   "name": "python",
   "nbconvert_exporter": "python",
   "pygments_lexer": "ipython3",
   "version": "3.8.8"
  }
 },
 "nbformat": 4,
 "nbformat_minor": 5
}
